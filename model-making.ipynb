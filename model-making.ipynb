{
 "cells": [
  {
   "cell_type": "code",
   "execution_count": 98,
   "id": "688a527d-e15b-49ca-9636-16e9ec90c9da",
   "metadata": {},
   "outputs": [],
   "source": [
    "import pandas as pd\n",
    "from sklearn.feature_extraction.text import TfidfVectorizer\n",
    "from sklearn.model_selection import StratifiedKFold, train_test_split, KFold, cross_val_score\n",
    "from sklearn.naive_bayes import MultinomialNB\n",
    "from sklearn.metrics import classification_report, confusion_matrix, accuracy_score\n",
    "import joblib\n",
    "import numpy as np\n"
   ]
  },
  {
   "cell_type": "code",
   "execution_count": 99,
   "id": "8691561a",
   "metadata": {},
   "outputs": [
    {
     "data": {
      "text/html": [
       "<div>\n",
       "<style scoped>\n",
       "    .dataframe tbody tr th:only-of-type {\n",
       "        vertical-align: middle;\n",
       "    }\n",
       "\n",
       "    .dataframe tbody tr th {\n",
       "        vertical-align: top;\n",
       "    }\n",
       "\n",
       "    .dataframe thead th {\n",
       "        text-align: right;\n",
       "    }\n",
       "</style>\n",
       "<table border=\"1\" class=\"dataframe\">\n",
       "  <thead>\n",
       "    <tr style=\"text-align: right;\">\n",
       "      <th></th>\n",
       "      <th>label</th>\n",
       "      <th>message</th>\n",
       "    </tr>\n",
       "  </thead>\n",
       "  <tbody>\n",
       "    <tr>\n",
       "      <th>0</th>\n",
       "      <td>ham</td>\n",
       "      <td>Go until jurong point, crazy.. Available only ...</td>\n",
       "    </tr>\n",
       "    <tr>\n",
       "      <th>1</th>\n",
       "      <td>ham</td>\n",
       "      <td>Ok lar... Joking wif u oni...</td>\n",
       "    </tr>\n",
       "    <tr>\n",
       "      <th>2</th>\n",
       "      <td>spam</td>\n",
       "      <td>Free entry in 2 a wkly comp to win FA Cup fina...</td>\n",
       "    </tr>\n",
       "    <tr>\n",
       "      <th>3</th>\n",
       "      <td>ham</td>\n",
       "      <td>U dun say so early hor... U c already then say...</td>\n",
       "    </tr>\n",
       "    <tr>\n",
       "      <th>4</th>\n",
       "      <td>ham</td>\n",
       "      <td>Nah I don't think he goes to usf, he lives aro...</td>\n",
       "    </tr>\n",
       "  </tbody>\n",
       "</table>\n",
       "</div>"
      ],
      "text/plain": [
       "  label                                            message\n",
       "0   ham  Go until jurong point, crazy.. Available only ...\n",
       "1   ham                      Ok lar... Joking wif u oni...\n",
       "2  spam  Free entry in 2 a wkly comp to win FA Cup fina...\n",
       "3   ham  U dun say so early hor... U c already then say...\n",
       "4   ham  Nah I don't think he goes to usf, he lives aro..."
      ]
     },
     "execution_count": 99,
     "metadata": {},
     "output_type": "execute_result"
    }
   ],
   "source": [
    "# load dataset\n",
    "df = pd.read_csv(\"smsspamcollection/SMSSpamCollection\", sep='\\t', header=None, names=[\"label\", \"message\"])\n",
    "df.head()"
   ]
  },
  {
   "cell_type": "code",
   "execution_count": 100,
   "id": "3fb3573e",
   "metadata": {},
   "outputs": [],
   "source": [
    "# extra_spam = pd.DataFrame({\n",
    "#     'label': ['spam']*5,\n",
    "#     'message': [\n",
    "#         \"Win $1000 now, no experience needed!\",\n",
    "#         \"Claim your free iPhone. Limited time offer!\",\n",
    "#         \"Click here to earn money fast!\",\n",
    "#         \"You have won a lottery. Contact now!\",\n",
    "#         \"Work from home and earn daily!\"\n",
    "#     ]\n",
    "# })\n",
    "# df = pd.concat([df, extra_spam], ignore_index=True)\n"
   ]
  },
  {
   "cell_type": "code",
   "execution_count": 101,
   "id": "8530bb40",
   "metadata": {},
   "outputs": [
    {
     "data": {
      "text/plain": [
       "(5572, 2)"
      ]
     },
     "execution_count": 101,
     "metadata": {},
     "output_type": "execute_result"
    }
   ],
   "source": [
    "df.shape"
   ]
  },
  {
   "cell_type": "code",
   "execution_count": 102,
   "id": "52d39921",
   "metadata": {},
   "outputs": [
    {
     "data": {
      "text/html": [
       "<div>\n",
       "<style scoped>\n",
       "    .dataframe tbody tr th:only-of-type {\n",
       "        vertical-align: middle;\n",
       "    }\n",
       "\n",
       "    .dataframe tbody tr th {\n",
       "        vertical-align: top;\n",
       "    }\n",
       "\n",
       "    .dataframe thead th {\n",
       "        text-align: right;\n",
       "    }\n",
       "</style>\n",
       "<table border=\"1\" class=\"dataframe\">\n",
       "  <thead>\n",
       "    <tr style=\"text-align: right;\">\n",
       "      <th></th>\n",
       "      <th>label</th>\n",
       "      <th>message</th>\n",
       "    </tr>\n",
       "  </thead>\n",
       "  <tbody>\n",
       "    <tr>\n",
       "      <th>0</th>\n",
       "      <td>True</td>\n",
       "      <td>True</td>\n",
       "    </tr>\n",
       "    <tr>\n",
       "      <th>1</th>\n",
       "      <td>True</td>\n",
       "      <td>True</td>\n",
       "    </tr>\n",
       "    <tr>\n",
       "      <th>2</th>\n",
       "      <td>True</td>\n",
       "      <td>True</td>\n",
       "    </tr>\n",
       "    <tr>\n",
       "      <th>3</th>\n",
       "      <td>True</td>\n",
       "      <td>True</td>\n",
       "    </tr>\n",
       "    <tr>\n",
       "      <th>4</th>\n",
       "      <td>True</td>\n",
       "      <td>True</td>\n",
       "    </tr>\n",
       "    <tr>\n",
       "      <th>...</th>\n",
       "      <td>...</td>\n",
       "      <td>...</td>\n",
       "    </tr>\n",
       "    <tr>\n",
       "      <th>5567</th>\n",
       "      <td>True</td>\n",
       "      <td>True</td>\n",
       "    </tr>\n",
       "    <tr>\n",
       "      <th>5568</th>\n",
       "      <td>True</td>\n",
       "      <td>True</td>\n",
       "    </tr>\n",
       "    <tr>\n",
       "      <th>5569</th>\n",
       "      <td>True</td>\n",
       "      <td>True</td>\n",
       "    </tr>\n",
       "    <tr>\n",
       "      <th>5570</th>\n",
       "      <td>True</td>\n",
       "      <td>True</td>\n",
       "    </tr>\n",
       "    <tr>\n",
       "      <th>5571</th>\n",
       "      <td>True</td>\n",
       "      <td>True</td>\n",
       "    </tr>\n",
       "  </tbody>\n",
       "</table>\n",
       "<p>5572 rows × 2 columns</p>\n",
       "</div>"
      ],
      "text/plain": [
       "      label  message\n",
       "0      True     True\n",
       "1      True     True\n",
       "2      True     True\n",
       "3      True     True\n",
       "4      True     True\n",
       "...     ...      ...\n",
       "5567   True     True\n",
       "5568   True     True\n",
       "5569   True     True\n",
       "5570   True     True\n",
       "5571   True     True\n",
       "\n",
       "[5572 rows x 2 columns]"
      ]
     },
     "execution_count": 102,
     "metadata": {},
     "output_type": "execute_result"
    }
   ],
   "source": [
    "df.notnull()"
   ]
  },
  {
   "cell_type": "code",
   "execution_count": 103,
   "id": "6cb657bc",
   "metadata": {},
   "outputs": [
    {
     "data": {
      "text/html": [
       "<div>\n",
       "<style scoped>\n",
       "    .dataframe tbody tr th:only-of-type {\n",
       "        vertical-align: middle;\n",
       "    }\n",
       "\n",
       "    .dataframe tbody tr th {\n",
       "        vertical-align: top;\n",
       "    }\n",
       "\n",
       "    .dataframe thead th {\n",
       "        text-align: right;\n",
       "    }\n",
       "</style>\n",
       "<table border=\"1\" class=\"dataframe\">\n",
       "  <thead>\n",
       "    <tr style=\"text-align: right;\">\n",
       "      <th></th>\n",
       "      <th>label</th>\n",
       "      <th>message</th>\n",
       "    </tr>\n",
       "  </thead>\n",
       "  <tbody>\n",
       "    <tr>\n",
       "      <th>0</th>\n",
       "      <td>0</td>\n",
       "      <td>Go until jurong point, crazy.. Available only ...</td>\n",
       "    </tr>\n",
       "    <tr>\n",
       "      <th>1</th>\n",
       "      <td>0</td>\n",
       "      <td>Ok lar... Joking wif u oni...</td>\n",
       "    </tr>\n",
       "    <tr>\n",
       "      <th>2</th>\n",
       "      <td>1</td>\n",
       "      <td>Free entry in 2 a wkly comp to win FA Cup fina...</td>\n",
       "    </tr>\n",
       "    <tr>\n",
       "      <th>3</th>\n",
       "      <td>0</td>\n",
       "      <td>U dun say so early hor... U c already then say...</td>\n",
       "    </tr>\n",
       "    <tr>\n",
       "      <th>4</th>\n",
       "      <td>0</td>\n",
       "      <td>Nah I don't think he goes to usf, he lives aro...</td>\n",
       "    </tr>\n",
       "  </tbody>\n",
       "</table>\n",
       "</div>"
      ],
      "text/plain": [
       "   label                                            message\n",
       "0      0  Go until jurong point, crazy.. Available only ...\n",
       "1      0                      Ok lar... Joking wif u oni...\n",
       "2      1  Free entry in 2 a wkly comp to win FA Cup fina...\n",
       "3      0  U dun say so early hor... U c already then say...\n",
       "4      0  Nah I don't think he goes to usf, he lives aro..."
      ]
     },
     "execution_count": 103,
     "metadata": {},
     "output_type": "execute_result"
    }
   ],
   "source": [
    "# Convert Labels to 0 & 1\n",
    "df['label'] = df['label'].map({'ham': 0, 'spam': 1})\n",
    "df.head()\n"
   ]
  },
  {
   "cell_type": "code",
   "execution_count": 104,
   "id": "fc435ed0",
   "metadata": {},
   "outputs": [],
   "source": [
    "# # Features and labels\n",
    "# X = df['message']\n",
    "# y = df['label']\n",
    "\n",
    "# # Convert text to TF-IDF vectors\n",
    "# tfidf = TfidfVectorizer(stop_words='english')  # removes common stopwords like 'the', 'and', etc.\n",
    "# X_vect = tfidf.fit_transform(X)\n",
    "\n",
    "# # # Split into train/test sets\n",
    "# # X_train, X_test, y_train, y_test = train_test_split(X_vect, y, test_size=0.2, random_state=42)"
   ]
  },
  {
   "cell_type": "markdown",
   "id": "ee4855eb",
   "metadata": {},
   "source": [
    "`X_vect` is the TF-IDF representation of all text.\n",
    "\n",
    "Then you use `kf.split(X_vect)` to apply K-Fold on the already vectorized data."
   ]
  },
  {
   "cell_type": "code",
   "execution_count": 105,
   "id": "22ba6ee6",
   "metadata": {},
   "outputs": [],
   "source": [
    "import math\n",
    "\n",
    "def classification_performance(conf_matrix):\n",
    "    TP = conf_matrix[1, 1]\n",
    "    TN = conf_matrix[0, 0]\n",
    "    FP = conf_matrix[0, 1]\n",
    "    FN = conf_matrix[1, 0]\n",
    "\n",
    "    acc = (TP + TN) / (TP + TN + FP + FN)\n",
    "\n",
    "    prec = TP / (TP + FP) if (TP + FP) != 0 else 0\n",
    "    rec = TP / (TP + FN) if (TP + FN) != 0 else 0\n",
    "    spec = TN / (TN + FP) if (TN + FP) != 0 else 0\n",
    "    f1 = 2 * prec * rec / (prec + rec) if (prec + rec) != 0 else 0\n",
    "    GM = math.sqrt(rec * spec)\n",
    "\n",
    "    return acc, prec, rec, spec, f1, GM\n"
   ]
  },
  {
   "cell_type": "markdown",
   "id": "c07db766",
   "metadata": {},
   "source": [
    "## Train the model using Multinominal Bayes\n",
    "\n",
    "#### Trains a Multinomial Naive Bayes model using your `X_train` (TF-IDF) and `y_train` (labels: 0 = ham, 1 = spam)\n",
    "\n",
    "#### Internally, the model learns which word patterns are more likely to be found in spam or ham"
   ]
  },
  {
   "cell_type": "code",
   "execution_count": 106,
   "id": "80e85bc3",
   "metadata": {},
   "outputs": [],
   "source": [
    "# k = 10\n",
    "# kf = KFold(n_splits=k, shuffle=True, random_state=42)\n",
    "\n",
    "# # Prepare arrays to store metrics\n",
    "# acc = np.zeros(k)\n",
    "# prec = np.zeros(k)\n",
    "# recall = np.zeros(k)\n",
    "# spec = np.zeros(k)\n",
    "# F1 = np.zeros(k)\n",
    "# GM = np.zeros(k)\n",
    "\n",
    "# # Run K-Fold\n",
    "# for i, (train_idx, test_idx) in enumerate(kf.split(X_vect)):\n",
    "#     print(f\"\\n🔁 Fold {i+1}/{k}\")\n",
    "    \n",
    "#     X_train, X_test = X_vect[train_idx], X_vect[test_idx]\n",
    "#     y_train, y_test = y.iloc[train_idx], y.iloc[test_idx]  # Use .iloc to avoid index mismatch\n",
    "\n",
    "#     model = MultinomialNB()\n",
    "#     model.fit(X_train, y_train)\n",
    "#     y_pred = model.predict(X_test)\n",
    "\n",
    "#     conf_matrix = confusion_matrix(y_test, y_pred, labels=[0, 1])\n",
    "#     acc[i], prec[i], recall[i], spec[i], F1[i], GM[i] = classification_performance(conf_matrix)\n",
    "\n",
    "#     print(f\"✅ Accuracy: {acc[i]*100:.2f}%, Precision: {prec[i]*100:.2f}%, Recall: {recall[i]*100:.2f}%, Specificity: {spec[i]*100:.2f}%, F1: {F1[i]*100:.2f}%, GM: {GM[i]*100:.2f}%\")\n",
    "\n",
    "# # Print final stats\n",
    "# print('\\n📊 ========== FINAL SUMMARY ==========')\n",
    "# print(f\"Mean Accuracy:     {acc.mean()*100:.2f}%\")\n",
    "# print(f\"Mean Precision:    {prec.mean()*100:.2f}%\")\n",
    "# print(f\"Mean Recall:       {recall.mean()*100:.2f}%\")\n",
    "# print(f\"Mean Specificity:  {spec.mean()*100:.2f}%\")\n",
    "# print(f\"Mean F1 Score:     {F1.mean()*100:.2f}%\")\n",
    "# print(f\"Mean Geometric Mean: {GM.mean()*100:.2f}%\")"
   ]
  },
  {
   "cell_type": "markdown",
   "id": "0f0ee37d",
   "metadata": {},
   "source": [
    "## Result Analysis of this\n",
    "Accuracy\t97.42%\tAlmost all messages are classified correctly.\n",
    "\n",
    "Precision\t99.84%\tNearly all predicted spams are truly spam — minimal false alarms.\n",
    "\n",
    "Recall\t81.03%\tModel catches ~81% of actual spam — a few spam messages might slip through.\n",
    "\n",
    "Specificity\t99.98%\tModel correctly identifies nearly all ham (non-spam) messages.\n",
    "\n",
    "F1 Score\t89.37%\tA strong balance between precision and recall.\n",
    "\n",
    "G-Mean\t89.97%\tShows model is balanced across both classes."
   ]
  },
  {
   "cell_type": "markdown",
   "id": "9ac07a2c",
   "metadata": {},
   "source": [
    "# step 2 now we will use k fold on n training data nd test using testing data seperately"
   ]
  },
  {
   "cell_type": "markdown",
   "id": "ab796899",
   "metadata": {},
   "source": [
    "### Split into tarin and test set first"
   ]
  },
  {
   "cell_type": "code",
   "execution_count": 107,
   "id": "c741b38d",
   "metadata": {},
   "outputs": [],
   "source": [
    "# Map ham/spam to 0/1\n",
    "df['label'] = df['label'].map({'ham': 0, 'spam': 1})\n",
    "\n",
    "# Drop any rows where label is NaN (i.e., unexpected values)\n",
    "df = df.dropna(subset=['label'])\n",
    "\n",
    "# Now define X and y\n",
    "X = df['message']\n",
    "y = df['label']\n"
   ]
  },
  {
   "cell_type": "code",
   "execution_count": 108,
   "id": "fb9430bb",
   "metadata": {},
   "outputs": [
    {
     "name": "stdout",
     "output_type": "stream",
     "text": [
      "Shape of original DataFrame: (0, 2)\n",
      "Unique values in 'label': []\n",
      "Empty DataFrame\n",
      "Columns: [label, message]\n",
      "Index: []\n"
     ]
    }
   ],
   "source": [
    "print(\"Shape of original DataFrame:\", df.shape)\n",
    "print(\"Unique values in 'label':\", df['label'].unique())\n",
    "print(df.head())\n"
   ]
  },
  {
   "cell_type": "code",
   "execution_count": 111,
   "id": "023f0a7d",
   "metadata": {},
   "outputs": [],
   "source": [
    "# Reload the dataset if df is empty\n",
    "if df.empty:\n",
    "    df = pd.read_csv(\"smsspamcollection/SMSSpamCollection\", sep='\\t', header=None, names=[\"label\", \"message\"])\n",
    "    df['label'] = df['label'].map({'ham': 0, 'spam': 1})\n",
    "    df = df.dropna(subset=['label'])\n",
    "\n",
    "X = df['message']\n",
    "y = df['label']\n",
    "\n",
    "X_train_raw, X_test_raw, y_train, y_test = train_test_split(\n",
    "    X, y, test_size=0.2, random_state=42, stratify=y\n",
    ")"
   ]
  },
  {
   "cell_type": "code",
   "execution_count": null,
   "id": "d1f137eb",
   "metadata": {},
   "outputs": [],
   "source": [
    "# vectorizer = TfidfVectorizer(stop_words='english', max_df=0.95)\n",
    "# X_train_vect = vectorizer.fit_transform(X_train_raw)\n",
    "# X_test_vect = vectorizer.transform(X_test_raw)"
   ]
  },
  {
   "cell_type": "code",
   "execution_count": 112,
   "id": "0841a8df",
   "metadata": {},
   "outputs": [
    {
     "name": "stdout",
     "output_type": "stream",
     "text": [
      "\n",
      "🔁 Fold 1/10\n",
      "✅ Accuracy: 97.31%, Precision: 98.39%, Recall: 81.33%, Specificity: 99.79%, F1: 89.05%, GM: 90.09%\n",
      "\n",
      "🔁 Fold 2/10\n",
      "✅ Accuracy: 97.13%, Precision: 100.00%, Recall: 78.67%, Specificity: 100.00%, F1: 88.06%, GM: 88.69%\n",
      "\n",
      "🔁 Fold 3/10\n",
      "✅ Accuracy: 96.59%, Precision: 96.61%, Recall: 77.03%, Specificity: 99.59%, F1: 85.71%, GM: 87.58%\n",
      "\n",
      "🔁 Fold 4/10\n",
      "✅ Accuracy: 97.31%, Precision: 100.00%, Recall: 79.73%, Specificity: 100.00%, F1: 88.72%, GM: 89.29%\n",
      "\n",
      "🔁 Fold 5/10\n",
      "✅ Accuracy: 96.95%, Precision: 100.00%, Recall: 77.03%, Specificity: 100.00%, F1: 87.02%, GM: 87.77%\n",
      "\n",
      "🔁 Fold 6/10\n",
      "✅ Accuracy: 97.49%, Precision: 98.41%, Recall: 82.67%, Specificity: 99.79%, F1: 89.86%, GM: 90.83%\n",
      "\n",
      "🔁 Fold 7/10\n",
      "✅ Accuracy: 96.59%, Precision: 98.28%, Recall: 76.00%, Specificity: 99.79%, F1: 85.71%, GM: 87.09%\n",
      "\n",
      "🔁 Fold 8/10\n",
      "✅ Accuracy: 96.41%, Precision: 96.61%, Recall: 76.00%, Specificity: 99.59%, F1: 85.07%, GM: 87.00%\n",
      "\n",
      "🔁 Fold 9/10\n",
      "✅ Accuracy: 96.41%, Precision: 96.61%, Recall: 76.00%, Specificity: 99.59%, F1: 85.07%, GM: 87.00%\n",
      "\n",
      "🔁 Fold 10/10\n",
      "✅ Accuracy: 96.95%, Precision: 100.00%, Recall: 77.33%, Specificity: 100.00%, F1: 87.22%, GM: 87.94%\n",
      "\n",
      "📊 ========= FINAL SUMMARY =========\n",
      "Mean Accuracy:     96.91%\n",
      "Mean Precision:    98.49%\n",
      "Mean Recall:       78.18%\n",
      "Mean Specificity:  99.81%\n",
      "Mean F1 Score:     87.15%\n",
      "Mean Geometric Mean: 88.33%\n"
     ]
    }
   ],
   "source": [
    "from sklearn.model_selection import StratifiedKFold\n",
    "from sklearn.linear_model import LogisticRegression\n",
    "models = LogisticRegression()\n",
    "\n",
    "k = 10\n",
    "skf = StratifiedKFold(n_splits=k, shuffle=True, random_state=42)\n",
    "\n",
    "acc = np.zeros(k)\n",
    "prec = np.zeros(k)\n",
    "recall = np.zeros(k)\n",
    "spec = np.zeros(k)\n",
    "F1 = np.zeros(k)\n",
    "GM = np.zeros(k)\n",
    "\n",
    "# Loop through each fold\n",
    "for i, (train_idx, test_idx) in enumerate(skf.split(X, y)):\n",
    "    print(f\"\\n🔁 Fold {i+1}/{k}\")\n",
    "    \n",
    "    X_train_raw, X_test_raw = X.iloc[train_idx], X.iloc[test_idx]\n",
    "    y_train, y_test = y.iloc[train_idx], y.iloc[test_idx]\n",
    "    \n",
    "    # Vectorize text\n",
    "    tfidf = TfidfVectorizer(ngram_range=(1,2), min_df=2, stop_words='english')\n",
    "    X_train_vect = tfidf.fit_transform(X_train_raw)\n",
    "    X_test_vect = tfidf.transform(X_test_raw)\n",
    "    \n",
    "    # Train model\n",
    "    model = MultinomialNB()\n",
    "    models.fit(X_train_vect, y_train)\n",
    "    y_pred = models.predict(X_test_vect)\n",
    "\n",
    "    # Confusion matrix\n",
    "    conf_matrix = confusion_matrix(y_test, y_pred, labels=[0, 1])\n",
    "    acc[i], prec[i], recall[i], spec[i], F1[i], GM[i] = classification_performance(conf_matrix)\n",
    "\n",
    "    # Print fold metrics\n",
    "    print(f\"✅ Accuracy: {acc[i]*100:.2f}%, Precision: {prec[i]*100:.2f}%, Recall: {recall[i]*100:.2f}%, Specificity: {spec[i]*100:.2f}%, F1: {F1[i]*100:.2f}%, GM: {GM[i]*100:.2f}%\")\n",
    "\n",
    "print('\\n📊 ========= FINAL SUMMARY =========')\n",
    "print(f\"Mean Accuracy:     {acc.mean()*100:.2f}%\")\n",
    "print(f\"Mean Precision:    {prec.mean()*100:.2f}%\")\n",
    "print(f\"Mean Recall:       {recall.mean()*100:.2f}%\")\n",
    "print(f\"Mean Specificity:  {spec.mean()*100:.2f}%\")\n",
    "print(f\"Mean F1 Score:     {F1.mean()*100:.2f}%\")\n",
    "print(f\"Mean Geometric Mean: {GM.mean()*100:.2f}%\")\n"
   ]
  },
  {
   "cell_type": "code",
   "execution_count": null,
   "id": "e29bc898",
   "metadata": {},
   "outputs": [
    {
     "data": {
      "text/plain": [
       "['tfidf_vectorizer.pkl']"
      ]
     },
     "execution_count": 75,
     "metadata": {},
     "output_type": "execute_result"
    }
   ],
   "source": [
    "import joblib\n",
    "\n",
    "# Save model and vectorizer\n",
    "joblib.dump(model, 'spam_model.pkl')\n",
    "joblib.dump(tfidf, 'tfidf_vectorizer.pkl')\n"
   ]
  },
  {
   "cell_type": "code",
   "execution_count": null,
   "id": "fbf0d3cd",
   "metadata": {},
   "outputs": [
    {
     "name": "stdout",
     "output_type": "stream",
     "text": [
      "Spam\n"
     ]
    }
   ],
   "source": [
    "# Load model and vectorizer\n",
    "loaded_model = joblib.load('spam_model.pkl')\n",
    "loaded_vectorizer = joblib.load('tfidf_vectorizer.pkl')\n",
    "\n",
    "# Example test message\n",
    "test_message = [\"Win a free vacation! Reply YES to claim.\"]\n",
    "test_vector = loaded_vectorizer.transform(test_message)\n",
    "prediction = loaded_model.predict(test_vector)\n",
    "\n",
    "print(\"Spam\" if prediction[0] == 1 else \"Ham\")\n"
   ]
  },
  {
   "cell_type": "code",
   "execution_count": 115,
   "id": "296ed30e",
   "metadata": {},
   "outputs": [
    {
     "name": "stdout",
     "output_type": "stream",
     "text": [
      "Prediction: Ham\n"
     ]
    }
   ],
   "source": [
    "from sklearn.pipeline import Pipeline\n",
    "\n",
    "pipeline = Pipeline([\n",
    "    ('tfidf', tfidf),\n",
    "    ('model', models)\n",
    "])\n",
    "\n",
    "# Save entire pipeline\n",
    "joblib.dump(pipeline, 'spam_pipeline.pkl')\n",
    "\n",
    "# Load and test\n",
    "loaded_pipeline = joblib.load('spam_pipeline.pkl')\n",
    "result = loaded_pipeline.predict([\"Free entry in 2 a wkly comp to win tickets!\"])\n",
    "print(\"Prediction:\", \"Spam\" if result[0] == 1 else \"Ham\")"
   ]
  },
  {
   "cell_type": "code",
   "execution_count": 116,
   "id": "bb598427",
   "metadata": {},
   "outputs": [
    {
     "name": "stdout",
     "output_type": "stream",
     "text": [
      "'Hey John, I thought you might like this opportunity — earn $500/day working from home, no experience needed!' => Ham\n",
      "'Congratulations! You've won a $1000 Walmart gift card. Click here to claim.' => Spam\n",
      "'Are we still meeting at 6 PM today?' => Ham\n",
      "'URGENT! Your mobile number has won 1 million dollars!' => Spam\n",
      "'I'll call you back in 10 mins.' => Ham\n",
      "'Free entry in 2 a weekly competition to win FA Cup tickets. Text FA to 12345' => Ham\n",
      "'Hey, what time is the class tomorrow?' => Ham\n"
     ]
    }
   ],
   "source": [
    "from joblib import load\n",
    "\n",
    "# Load the saved pipeline\n",
    "pipeline = load(\"spam_pipeline.pkl\")\n",
    "\n",
    "# Sample messages for testing\n",
    "test_messages = [\n",
    "    \"Hey John, I thought you might like this opportunity — earn $500/day working from home, no experience needed!\",\n",
    "    \"Congratulations! You've won a $1000 Walmart gift card. Click here to claim.\",\n",
    "    \"Are we still meeting at 6 PM today?\",\n",
    "    \"URGENT! Your mobile number has won 1 million dollars!\",\n",
    "    \"I'll call you back in 10 mins.\",\n",
    "    \"Free entry in 2 a weekly competition to win FA Cup tickets. Text FA to 12345\",\n",
    "    \"Hey, what time is the class tomorrow?\",\n",
    "]\n",
    "\n",
    "# Predict\n",
    "predictions = pipeline.predict(test_messages)\n",
    "\n",
    "# Show results\n",
    "for msg, label in zip(test_messages, predictions):\n",
    "    print(f\"'{msg}' => {'Spam' if label == 1 else 'Ham'}\")\n"
   ]
  }
 ],
 "metadata": {
  "kernelspec": {
   "display_name": "venv",
   "language": "python",
   "name": "python3"
  },
  "language_info": {
   "codemirror_mode": {
    "name": "ipython",
    "version": 3
   },
   "file_extension": ".py",
   "mimetype": "text/x-python",
   "name": "python",
   "nbconvert_exporter": "python",
   "pygments_lexer": "ipython3",
   "version": "3.13.5"
  }
 },
 "nbformat": 4,
 "nbformat_minor": 5
}
